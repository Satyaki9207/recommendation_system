{
 "cells": [
  {
   "cell_type": "markdown",
   "id": "excess-retail",
   "metadata": {},
   "source": [
    "### User based Collaborative Filtering"
   ]
  },
  {
   "cell_type": "markdown",
   "id": "political-catch",
   "metadata": {},
   "source": [
    "Dataset used here is the movielens 1m dataset and can be found [here](https://grouplens.org/datasets/movielens/1m/)\n"
   ]
  },
  {
   "cell_type": "markdown",
   "id": "civic-psychology",
   "metadata": {},
   "source": [
    "### 1. Loading necessary libraries"
   ]
  },
  {
   "cell_type": "code",
   "execution_count": 1,
   "id": "becoming-fighter",
   "metadata": {},
   "outputs": [],
   "source": [
    "import os\n",
    "import numpy as np\n",
    "import pandas as pd\n",
    "import matplotlib.pyplot as plt\n",
    "import seaborn as sns\n",
    "from scipy.sparse import csr_matrix\n",
    "from scipy.sparse import save_npz\n",
    "os.chdir(r'C:\\Users\\stone\\Documents\\Python_Scripts\\ML_codes\\my_recommender\\ml-1m')"
   ]
  },
  {
   "cell_type": "markdown",
   "id": "collectible-nevada",
   "metadata": {},
   "source": [
    "### 2. Reading the data"
   ]
  },
  {
   "cell_type": "code",
   "execution_count": 2,
   "id": "different-lecture",
   "metadata": {},
   "outputs": [
    {
     "data": {
      "text/html": [
       "<div>\n",
       "<style scoped>\n",
       "    .dataframe tbody tr th:only-of-type {\n",
       "        vertical-align: middle;\n",
       "    }\n",
       "\n",
       "    .dataframe tbody tr th {\n",
       "        vertical-align: top;\n",
       "    }\n",
       "\n",
       "    .dataframe thead th {\n",
       "        text-align: right;\n",
       "    }\n",
       "</style>\n",
       "<table border=\"1\" class=\"dataframe\">\n",
       "  <thead>\n",
       "    <tr style=\"text-align: right;\">\n",
       "      <th></th>\n",
       "      <th>movie_id</th>\n",
       "      <th>title</th>\n",
       "      <th>genre</th>\n",
       "    </tr>\n",
       "  </thead>\n",
       "  <tbody>\n",
       "    <tr>\n",
       "      <th>0</th>\n",
       "      <td>1</td>\n",
       "      <td>Toy Story (1995)</td>\n",
       "      <td>Animation|Children's|Comedy</td>\n",
       "    </tr>\n",
       "    <tr>\n",
       "      <th>1</th>\n",
       "      <td>2</td>\n",
       "      <td>Jumanji (1995)</td>\n",
       "      <td>Adventure|Children's|Fantasy</td>\n",
       "    </tr>\n",
       "    <tr>\n",
       "      <th>2</th>\n",
       "      <td>3</td>\n",
       "      <td>Grumpier Old Men (1995)</td>\n",
       "      <td>Comedy|Romance</td>\n",
       "    </tr>\n",
       "    <tr>\n",
       "      <th>3</th>\n",
       "      <td>4</td>\n",
       "      <td>Waiting to Exhale (1995)</td>\n",
       "      <td>Comedy|Drama</td>\n",
       "    </tr>\n",
       "    <tr>\n",
       "      <th>4</th>\n",
       "      <td>5</td>\n",
       "      <td>Father of the Bride Part II (1995)</td>\n",
       "      <td>Comedy</td>\n",
       "    </tr>\n",
       "  </tbody>\n",
       "</table>\n",
       "</div>"
      ],
      "text/plain": [
       "   movie_id                               title                         genre\n",
       "0         1                    Toy Story (1995)   Animation|Children's|Comedy\n",
       "1         2                      Jumanji (1995)  Adventure|Children's|Fantasy\n",
       "2         3             Grumpier Old Men (1995)                Comedy|Romance\n",
       "3         4            Waiting to Exhale (1995)                  Comedy|Drama\n",
       "4         5  Father of the Bride Part II (1995)                        Comedy"
      ]
     },
     "execution_count": 2,
     "metadata": {},
     "output_type": "execute_result"
    }
   ],
   "source": [
    "movies=pd.read_table('movies.dat',sep='::',header=None,names=['movie_id','title','genre'],engine='python')\n",
    "users=pd.read_table('users.dat',sep='::',header=None,names=['user_id','gender','age','occupation','zipcode'],engine='python')\n",
    "ratings=pd.read_table('ratings.dat',sep='::',header=None,names=['user_id','movie_id','rating','timestamp'],engine='python')\n",
    "movies.head()"
   ]
  },
  {
   "cell_type": "code",
   "execution_count": 3,
   "id": "powerful-summary",
   "metadata": {},
   "outputs": [
    {
     "data": {
      "text/html": [
       "<div>\n",
       "<style scoped>\n",
       "    .dataframe tbody tr th:only-of-type {\n",
       "        vertical-align: middle;\n",
       "    }\n",
       "\n",
       "    .dataframe tbody tr th {\n",
       "        vertical-align: top;\n",
       "    }\n",
       "\n",
       "    .dataframe thead th {\n",
       "        text-align: right;\n",
       "    }\n",
       "</style>\n",
       "<table border=\"1\" class=\"dataframe\">\n",
       "  <thead>\n",
       "    <tr style=\"text-align: right;\">\n",
       "      <th></th>\n",
       "      <th>user_id</th>\n",
       "      <th>gender</th>\n",
       "      <th>age</th>\n",
       "      <th>occupation</th>\n",
       "      <th>zipcode</th>\n",
       "    </tr>\n",
       "  </thead>\n",
       "  <tbody>\n",
       "    <tr>\n",
       "      <th>0</th>\n",
       "      <td>1</td>\n",
       "      <td>F</td>\n",
       "      <td>1</td>\n",
       "      <td>10</td>\n",
       "      <td>48067</td>\n",
       "    </tr>\n",
       "    <tr>\n",
       "      <th>1</th>\n",
       "      <td>2</td>\n",
       "      <td>M</td>\n",
       "      <td>56</td>\n",
       "      <td>16</td>\n",
       "      <td>70072</td>\n",
       "    </tr>\n",
       "    <tr>\n",
       "      <th>2</th>\n",
       "      <td>3</td>\n",
       "      <td>M</td>\n",
       "      <td>25</td>\n",
       "      <td>15</td>\n",
       "      <td>55117</td>\n",
       "    </tr>\n",
       "    <tr>\n",
       "      <th>3</th>\n",
       "      <td>4</td>\n",
       "      <td>M</td>\n",
       "      <td>45</td>\n",
       "      <td>7</td>\n",
       "      <td>02460</td>\n",
       "    </tr>\n",
       "    <tr>\n",
       "      <th>4</th>\n",
       "      <td>5</td>\n",
       "      <td>M</td>\n",
       "      <td>25</td>\n",
       "      <td>20</td>\n",
       "      <td>55455</td>\n",
       "    </tr>\n",
       "  </tbody>\n",
       "</table>\n",
       "</div>"
      ],
      "text/plain": [
       "   user_id gender  age  occupation zipcode\n",
       "0        1      F    1          10   48067\n",
       "1        2      M   56          16   70072\n",
       "2        3      M   25          15   55117\n",
       "3        4      M   45           7   02460\n",
       "4        5      M   25          20   55455"
      ]
     },
     "execution_count": 3,
     "metadata": {},
     "output_type": "execute_result"
    }
   ],
   "source": [
    "users.head()"
   ]
  },
  {
   "cell_type": "code",
   "execution_count": 4,
   "id": "mature-beach",
   "metadata": {},
   "outputs": [
    {
     "data": {
      "text/html": [
       "<div>\n",
       "<style scoped>\n",
       "    .dataframe tbody tr th:only-of-type {\n",
       "        vertical-align: middle;\n",
       "    }\n",
       "\n",
       "    .dataframe tbody tr th {\n",
       "        vertical-align: top;\n",
       "    }\n",
       "\n",
       "    .dataframe thead th {\n",
       "        text-align: right;\n",
       "    }\n",
       "</style>\n",
       "<table border=\"1\" class=\"dataframe\">\n",
       "  <thead>\n",
       "    <tr style=\"text-align: right;\">\n",
       "      <th></th>\n",
       "      <th>user_id</th>\n",
       "      <th>movie_id</th>\n",
       "      <th>rating</th>\n",
       "      <th>timestamp</th>\n",
       "    </tr>\n",
       "  </thead>\n",
       "  <tbody>\n",
       "    <tr>\n",
       "      <th>0</th>\n",
       "      <td>1</td>\n",
       "      <td>1193</td>\n",
       "      <td>5</td>\n",
       "      <td>978300760</td>\n",
       "    </tr>\n",
       "    <tr>\n",
       "      <th>1</th>\n",
       "      <td>1</td>\n",
       "      <td>661</td>\n",
       "      <td>3</td>\n",
       "      <td>978302109</td>\n",
       "    </tr>\n",
       "    <tr>\n",
       "      <th>2</th>\n",
       "      <td>1</td>\n",
       "      <td>914</td>\n",
       "      <td>3</td>\n",
       "      <td>978301968</td>\n",
       "    </tr>\n",
       "    <tr>\n",
       "      <th>3</th>\n",
       "      <td>1</td>\n",
       "      <td>3408</td>\n",
       "      <td>4</td>\n",
       "      <td>978300275</td>\n",
       "    </tr>\n",
       "    <tr>\n",
       "      <th>4</th>\n",
       "      <td>1</td>\n",
       "      <td>2355</td>\n",
       "      <td>5</td>\n",
       "      <td>978824291</td>\n",
       "    </tr>\n",
       "  </tbody>\n",
       "</table>\n",
       "</div>"
      ],
      "text/plain": [
       "   user_id  movie_id  rating  timestamp\n",
       "0        1      1193       5  978300760\n",
       "1        1       661       3  978302109\n",
       "2        1       914       3  978301968\n",
       "3        1      3408       4  978300275\n",
       "4        1      2355       5  978824291"
      ]
     },
     "execution_count": 4,
     "metadata": {},
     "output_type": "execute_result"
    }
   ],
   "source": [
    "ratings.head()"
   ]
  },
  {
   "cell_type": "markdown",
   "id": "seven-criticism",
   "metadata": {},
   "source": [
    "### 3. EDA"
   ]
  },
  {
   "cell_type": "code",
   "execution_count": 5,
   "id": "demanding-dynamics",
   "metadata": {},
   "outputs": [
    {
     "name": "stdout",
     "output_type": "stream",
     "text": [
      "number of ratings: 1000209\n",
      "number of unique movies: 3706\n",
      "number of unique users: 6040\n",
      "Average number of ratings per user: 165.6\n",
      "Average number of ratings per movie 269.89\n"
     ]
    }
   ],
   "source": [
    "n_ratings=len(ratings)\n",
    "n_users=ratings['user_id'].nunique()\n",
    "n_movies=ratings['movie_id'].nunique()\n",
    "\n",
    "print('number of ratings:',n_ratings)\n",
    "print('number of unique movies:',n_movies)\n",
    "print('number of unique users:',n_users)\n",
    "print('Average number of ratings per user:',np.round(n_ratings/n_users,2))\n",
    "print('Average number of ratings per movie',np.round(n_ratings/n_movies,2))"
   ]
  },
  {
   "cell_type": "markdown",
   "id": "swedish-dietary",
   "metadata": {},
   "source": [
    "Next, we can look at the rating counts of each user. Here I use the pandas groupby function to count number of times a certain user has rated a movie"
   ]
  },
  {
   "cell_type": "code",
   "execution_count": 6,
   "id": "false-waters",
   "metadata": {},
   "outputs": [
    {
     "data": {
      "text/html": [
       "<div>\n",
       "<style scoped>\n",
       "    .dataframe tbody tr th:only-of-type {\n",
       "        vertical-align: middle;\n",
       "    }\n",
       "\n",
       "    .dataframe tbody tr th {\n",
       "        vertical-align: top;\n",
       "    }\n",
       "\n",
       "    .dataframe thead th {\n",
       "        text-align: right;\n",
       "    }\n",
       "</style>\n",
       "<table border=\"1\" class=\"dataframe\">\n",
       "  <thead>\n",
       "    <tr style=\"text-align: right;\">\n",
       "      <th></th>\n",
       "      <th>n_ratings</th>\n",
       "    </tr>\n",
       "    <tr>\n",
       "      <th>user_id</th>\n",
       "      <th></th>\n",
       "    </tr>\n",
       "  </thead>\n",
       "  <tbody>\n",
       "    <tr>\n",
       "      <th>4169</th>\n",
       "      <td>2314</td>\n",
       "    </tr>\n",
       "    <tr>\n",
       "      <th>1680</th>\n",
       "      <td>1850</td>\n",
       "    </tr>\n",
       "    <tr>\n",
       "      <th>4277</th>\n",
       "      <td>1743</td>\n",
       "    </tr>\n",
       "    <tr>\n",
       "      <th>1941</th>\n",
       "      <td>1595</td>\n",
       "    </tr>\n",
       "    <tr>\n",
       "      <th>1181</th>\n",
       "      <td>1521</td>\n",
       "    </tr>\n",
       "  </tbody>\n",
       "</table>\n",
       "</div>"
      ],
      "text/plain": [
       "         n_ratings\n",
       "user_id           \n",
       "4169          2314\n",
       "1680          1850\n",
       "4277          1743\n",
       "1941          1595\n",
       "1181          1521"
      ]
     },
     "execution_count": 6,
     "metadata": {},
     "output_type": "execute_result"
    }
   ],
   "source": [
    "user_freq=ratings[['user_id','movie_id']].groupby('user_id').count().rename(columns={'movie_id':'n_ratings'})\\\n",
    ".sort_values(by='n_ratings',ascending=False)\n",
    "user_freq.head()"
   ]
  },
  {
   "cell_type": "markdown",
   "id": "exposed-swing",
   "metadata": {},
   "source": [
    "So on an average, a user has rated ~165 movies"
   ]
  },
  {
   "cell_type": "code",
   "execution_count": 7,
   "id": "breeding-witness",
   "metadata": {},
   "outputs": [
    {
     "data": {
      "image/png": "[encoded data removed]",
      "text/plain": [
       "<Figure size 1008x360 with 2 Axes>"
      ]
     },
     "metadata": {},
     "output_type": "display_data"
    }
   ],
   "source": [
    "# Plotting distribution of movie ratings per user\n",
    "base_color=sns.color_palette()[0]\n",
    "sns.set_style('whitegrid')\n",
    "\n",
    "plt.figure(figsize=(14,5))\n",
    "plt.subplot(1,2,1)\n",
    "ax1=sns.countplot(x='rating',data=ratings,color=base_color)\n",
    "plt.title('Distribution of user ratings')\n",
    "\n",
    "plt.subplot(1,2,2)\n",
    "ax2=sns.kdeplot(user_freq['n_ratings'],shade=True)\n",
    "plt.axvline(user_freq['n_ratings'].mean(),color='k',linestyle='--')\n",
    "plt.xlabel('Number of ratings per user')\n",
    "plt.title('Number of ratings per user');"
   ]
  },
  {
   "cell_type": "markdown",
   "id": "south-scheme",
   "metadata": {},
   "source": [
    "### Movies with lowest and highest average ratings"
   ]
  },
  {
   "cell_type": "code",
   "execution_count": 8,
   "id": "understanding-miracle",
   "metadata": {},
   "outputs": [
    {
     "data": {
      "text/html": [
       "<div>\n",
       "<style scoped>\n",
       "    .dataframe tbody tr th:only-of-type {\n",
       "        vertical-align: middle;\n",
       "    }\n",
       "\n",
       "    .dataframe tbody tr th {\n",
       "        vertical-align: top;\n",
       "    }\n",
       "\n",
       "    .dataframe thead th {\n",
       "        text-align: right;\n",
       "    }\n",
       "</style>\n",
       "<table border=\"1\" class=\"dataframe\">\n",
       "  <thead>\n",
       "    <tr style=\"text-align: right;\">\n",
       "      <th></th>\n",
       "      <th>movie_id</th>\n",
       "      <th>title</th>\n",
       "      <th>genre</th>\n",
       "    </tr>\n",
       "  </thead>\n",
       "  <tbody>\n",
       "    <tr>\n",
       "      <th>125</th>\n",
       "      <td>127</td>\n",
       "      <td>Silence of the Palace, The (Saimt el Qusur) (1...</td>\n",
       "      <td>Drama</td>\n",
       "    </tr>\n",
       "  </tbody>\n",
       "</table>\n",
       "</div>"
      ],
      "text/plain": [
       "     movie_id                                              title  genre\n",
       "125       127  Silence of the Palace, The (Saimt el Qusur) (1...  Drama"
      ]
     },
     "execution_count": 8,
     "metadata": {},
     "output_type": "execute_result"
    }
   ],
   "source": [
    "# Lowest rated movie\n",
    "mean_ratings=ratings[['movie_id','rating']].groupby('movie_id').mean().rename(columns={'rating':'average_rating'})\n",
    "lowest_rated=mean_ratings.idxmin()[0]\n",
    "movies[movies['movie_id']==lowest_rated]"
   ]
  },
  {
   "cell_type": "markdown",
   "id": "adjusted-puzzle",
   "metadata": {},
   "source": [
    "So silence of the palace is the worst movie"
   ]
  },
  {
   "cell_type": "code",
   "execution_count": 9,
   "id": "comparable-ownership",
   "metadata": {},
   "outputs": [
    {
     "data": {
      "text/html": [
       "<div>\n",
       "<style scoped>\n",
       "    .dataframe tbody tr th:only-of-type {\n",
       "        vertical-align: middle;\n",
       "    }\n",
       "\n",
       "    .dataframe tbody tr th {\n",
       "        vertical-align: top;\n",
       "    }\n",
       "\n",
       "    .dataframe thead th {\n",
       "        text-align: right;\n",
       "    }\n",
       "</style>\n",
       "<table border=\"1\" class=\"dataframe\">\n",
       "  <thead>\n",
       "    <tr style=\"text-align: right;\">\n",
       "      <th></th>\n",
       "      <th>movie_id</th>\n",
       "      <th>title</th>\n",
       "      <th>genre</th>\n",
       "    </tr>\n",
       "  </thead>\n",
       "  <tbody>\n",
       "    <tr>\n",
       "      <th>777</th>\n",
       "      <td>787</td>\n",
       "      <td>Gate of Heavenly Peace, The (1995)</td>\n",
       "      <td>Documentary</td>\n",
       "    </tr>\n",
       "  </tbody>\n",
       "</table>\n",
       "</div>"
      ],
      "text/plain": [
       "     movie_id                               title        genre\n",
       "777       787  Gate of Heavenly Peace, The (1995)  Documentary"
      ]
     },
     "execution_count": 9,
     "metadata": {},
     "output_type": "execute_result"
    }
   ],
   "source": [
    "# Highest rated movie\n",
    "highest_rated=mean_ratings.idxmax()[0]\n",
    "movies[movies['movie_id']==highest_rated]"
   ]
  },
  {
   "cell_type": "markdown",
   "id": "important-nickname",
   "metadata": {},
   "source": [
    "Gate of heavenly palace may be the highest rated movie, but this may be based on insufficient number of ratings"
   ]
  },
  {
   "cell_type": "code",
   "execution_count": 64,
   "id": "worthy-quebec",
   "metadata": {},
   "outputs": [
    {
     "data": {
      "text/html": [
       "<div>\n",
       "<style scoped>\n",
       "    .dataframe tbody tr th:only-of-type {\n",
       "        vertical-align: middle;\n",
       "    }\n",
       "\n",
       "    .dataframe tbody tr th {\n",
       "        vertical-align: top;\n",
       "    }\n",
       "\n",
       "    .dataframe thead th {\n",
       "        text-align: right;\n",
       "    }\n",
       "</style>\n",
       "<table border=\"1\" class=\"dataframe\">\n",
       "  <thead>\n",
       "    <tr style=\"text-align: right;\">\n",
       "      <th></th>\n",
       "      <th>user_id</th>\n",
       "      <th>movie_id</th>\n",
       "      <th>rating</th>\n",
       "      <th>timestamp</th>\n",
       "    </tr>\n",
       "  </thead>\n",
       "  <tbody>\n",
       "    <tr>\n",
       "      <th>19836</th>\n",
       "      <td>149</td>\n",
       "      <td>787</td>\n",
       "      <td>5</td>\n",
       "      <td>977325719</td>\n",
       "    </tr>\n",
       "    <tr>\n",
       "      <th>458840</th>\n",
       "      <td>2825</td>\n",
       "      <td>787</td>\n",
       "      <td>5</td>\n",
       "      <td>972610193</td>\n",
       "    </tr>\n",
       "    <tr>\n",
       "      <th>465525</th>\n",
       "      <td>2872</td>\n",
       "      <td>787</td>\n",
       "      <td>5</td>\n",
       "      <td>972423586</td>\n",
       "    </tr>\n",
       "  </tbody>\n",
       "</table>\n",
       "</div>"
      ],
      "text/plain": [
       "        user_id  movie_id  rating  timestamp\n",
       "19836       149       787       5  977325719\n",
       "458840     2825       787       5  972610193\n",
       "465525     2872       787       5  972423586"
      ]
     },
     "execution_count": 64,
     "metadata": {},
     "output_type": "execute_result"
    }
   ],
   "source": [
    "# Checking number of reviews for the highest rated movie\n",
    "ratings.loc[ratings['movie_id']==highest_rated]"
   ]
  },
  {
   "cell_type": "markdown",
   "id": "respective-picture",
   "metadata": {},
   "source": [
    "So the highest rated movie in the dataset has only 3 ratings while average number of ratings per movie is 269. Therefore a better way of ranking movies would be the [bayesian average](https://en.wikipedia.org/wiki/Bayesian_average)"
   ]
  },
  {
   "cell_type": "markdown",
   "id": "behind-warner",
   "metadata": {},
   "source": [
    "#### Bayesian Average\n",
    "\n",
    "Bayesian Average is defined as:\n",
    "\n",
    "$r_{i} = \\frac{C \\times m + \\Sigma{\\text{reviews}}}{C+N}$\n",
    "\n",
    "where $C$ represents our confidence, $m$ represents our prior, and $N$ is the total number of reviews for movie $i$. In this case, our prior will be the average rating across all movies. By defintion, C represents \"the typical dataset size\". Let's make $C$ be the average number of ratings for a given movie."
   ]
  },
  {
   "cell_type": "code",
   "execution_count": 10,
   "id": "isolated-anaheim",
   "metadata": {},
   "outputs": [
    {
     "data": {
      "text/html": [
       "<div>\n",
       "<style scoped>\n",
       "    .dataframe tbody tr th:only-of-type {\n",
       "        vertical-align: middle;\n",
       "    }\n",
       "\n",
       "    .dataframe tbody tr th {\n",
       "        vertical-align: top;\n",
       "    }\n",
       "\n",
       "    .dataframe thead th {\n",
       "        text-align: right;\n",
       "    }\n",
       "</style>\n",
       "<table border=\"1\" class=\"dataframe\">\n",
       "  <thead>\n",
       "    <tr style=\"text-align: right;\">\n",
       "      <th></th>\n",
       "      <th>count</th>\n",
       "      <th>mean</th>\n",
       "    </tr>\n",
       "    <tr>\n",
       "      <th>movie_id</th>\n",
       "      <th></th>\n",
       "      <th></th>\n",
       "    </tr>\n",
       "  </thead>\n",
       "  <tbody>\n",
       "    <tr>\n",
       "      <th>1</th>\n",
       "      <td>2077</td>\n",
       "      <td>4.146846</td>\n",
       "    </tr>\n",
       "    <tr>\n",
       "      <th>2</th>\n",
       "      <td>701</td>\n",
       "      <td>3.201141</td>\n",
       "    </tr>\n",
       "    <tr>\n",
       "      <th>3</th>\n",
       "      <td>478</td>\n",
       "      <td>3.016736</td>\n",
       "    </tr>\n",
       "    <tr>\n",
       "      <th>4</th>\n",
       "      <td>170</td>\n",
       "      <td>2.729412</td>\n",
       "    </tr>\n",
       "    <tr>\n",
       "      <th>5</th>\n",
       "      <td>296</td>\n",
       "      <td>3.006757</td>\n",
       "    </tr>\n",
       "  </tbody>\n",
       "</table>\n",
       "</div>"
      ],
      "text/plain": [
       "          count      mean\n",
       "movie_id                 \n",
       "1          2077  4.146846\n",
       "2           701  3.201141\n",
       "3           478  3.016736\n",
       "4           170  2.729412\n",
       "5           296  3.006757"
      ]
     },
     "execution_count": 10,
     "metadata": {},
     "output_type": "execute_result"
    }
   ],
   "source": [
    "movie_stats=ratings.groupby('movie_id')[['rating']].agg(['count','mean'])\n",
    "movie_stats.columns=movie_stats.columns.droplevel()\n",
    "movie_stats.head()"
   ]
  },
  {
   "cell_type": "code",
   "execution_count": 11,
   "id": "alive-excess",
   "metadata": {},
   "outputs": [
    {
     "data": {
      "text/html": [
       "<div>\n",
       "<style scoped>\n",
       "    .dataframe tbody tr th:only-of-type {\n",
       "        vertical-align: middle;\n",
       "    }\n",
       "\n",
       "    .dataframe tbody tr th {\n",
       "        vertical-align: top;\n",
       "    }\n",
       "\n",
       "    .dataframe thead th {\n",
       "        text-align: right;\n",
       "    }\n",
       "</style>\n",
       "<table border=\"1\" class=\"dataframe\">\n",
       "  <thead>\n",
       "    <tr style=\"text-align: right;\">\n",
       "      <th></th>\n",
       "      <th>movie_id</th>\n",
       "      <th>count</th>\n",
       "      <th>mean</th>\n",
       "      <th>bayesian_avg_rating</th>\n",
       "    </tr>\n",
       "  </thead>\n",
       "  <tbody>\n",
       "    <tr>\n",
       "      <th>0</th>\n",
       "      <td>1</td>\n",
       "      <td>2077</td>\n",
       "      <td>4.146846</td>\n",
       "      <td>4.042433</td>\n",
       "    </tr>\n",
       "    <tr>\n",
       "      <th>1</th>\n",
       "      <td>2</td>\n",
       "      <td>701</td>\n",
       "      <td>3.201141</td>\n",
       "      <td>3.211635</td>\n",
       "    </tr>\n",
       "    <tr>\n",
       "      <th>2</th>\n",
       "      <td>3</td>\n",
       "      <td>478</td>\n",
       "      <td>3.016736</td>\n",
       "      <td>3.096905</td>\n",
       "    </tr>\n",
       "    <tr>\n",
       "      <th>3</th>\n",
       "      <td>4</td>\n",
       "      <td>170</td>\n",
       "      <td>2.729412</td>\n",
       "      <td>3.041998</td>\n",
       "    </tr>\n",
       "    <tr>\n",
       "      <th>4</th>\n",
       "      <td>5</td>\n",
       "      <td>296</td>\n",
       "      <td>3.006757</td>\n",
       "      <td>3.117469</td>\n",
       "    </tr>\n",
       "  </tbody>\n",
       "</table>\n",
       "</div>"
      ],
      "text/plain": [
       "   movie_id  count      mean  bayesian_avg_rating\n",
       "0         1   2077  4.146846             4.042433\n",
       "1         2    701  3.201141             3.211635\n",
       "2         3    478  3.016736             3.096905\n",
       "3         4    170  2.729412             3.041998\n",
       "4         5    296  3.006757             3.117469"
      ]
     },
     "execution_count": 11,
     "metadata": {},
     "output_type": "execute_result"
    }
   ],
   "source": [
    "c=movie_stats['count'].mean()\n",
    "m=movie_stats['mean'].mean()\n",
    "\n",
    "def bayesian_average(ratings):\n",
    "    '''Expects a DataFrame containing movie_ids as index and average number of ratings as count and mean of average ratings\n",
    "    as mean'''\n",
    "    b_avg=(c*m+ratings.sum())/(c+ratings.count())\n",
    "    return b_avg\n",
    "\n",
    "bayesian_avg_ratings=ratings.groupby('movie_id')['rating'].agg(bayesian_average).reset_index()\n",
    "bayesian_avg_ratings.columns=['movie_id','bayesian_avg_rating']\n",
    "movie_stats=movie_stats.merge(bayesian_avg_ratings,on='movie_id')\n",
    "movie_stats.head()"
   ]
  },
  {
   "cell_type": "code",
   "execution_count": 12,
   "id": "finite-blackjack",
   "metadata": {},
   "outputs": [
    {
     "data": {
      "text/html": [
       "<div>\n",
       "<style scoped>\n",
       "    .dataframe tbody tr th:only-of-type {\n",
       "        vertical-align: middle;\n",
       "    }\n",
       "\n",
       "    .dataframe tbody tr th {\n",
       "        vertical-align: top;\n",
       "    }\n",
       "\n",
       "    .dataframe thead th {\n",
       "        text-align: right;\n",
       "    }\n",
       "</style>\n",
       "<table border=\"1\" class=\"dataframe\">\n",
       "  <thead>\n",
       "    <tr style=\"text-align: right;\">\n",
       "      <th></th>\n",
       "      <th>movie_id</th>\n",
       "      <th>count</th>\n",
       "      <th>mean</th>\n",
       "      <th>bayesian_avg_rating</th>\n",
       "    </tr>\n",
       "  </thead>\n",
       "  <tbody>\n",
       "    <tr>\n",
       "      <th>309</th>\n",
       "      <td>318</td>\n",
       "      <td>2227</td>\n",
       "      <td>4.554558</td>\n",
       "      <td>4.412347</td>\n",
       "    </tr>\n",
       "    <tr>\n",
       "      <th>802</th>\n",
       "      <td>858</td>\n",
       "      <td>2223</td>\n",
       "      <td>4.524966</td>\n",
       "      <td>4.385731</td>\n",
       "    </tr>\n",
       "    <tr>\n",
       "      <th>513</th>\n",
       "      <td>527</td>\n",
       "      <td>2304</td>\n",
       "      <td>4.510417</td>\n",
       "      <td>4.377089</td>\n",
       "    </tr>\n",
       "    <tr>\n",
       "      <th>1108</th>\n",
       "      <td>1198</td>\n",
       "      <td>2514</td>\n",
       "      <td>4.477725</td>\n",
       "      <td>4.357624</td>\n",
       "    </tr>\n",
       "    <tr>\n",
       "      <th>253</th>\n",
       "      <td>260</td>\n",
       "      <td>2991</td>\n",
       "      <td>4.453694</td>\n",
       "      <td>4.353151</td>\n",
       "    </tr>\n",
       "  </tbody>\n",
       "</table>\n",
       "</div>"
      ],
      "text/plain": [
       "      movie_id  count      mean  bayesian_avg_rating\n",
       "309        318   2227  4.554558             4.412347\n",
       "802        858   2223  4.524966             4.385731\n",
       "513        527   2304  4.510417             4.377089\n",
       "1108      1198   2514  4.477725             4.357624\n",
       "253        260   2991  4.453694             4.353151"
      ]
     },
     "execution_count": 12,
     "metadata": {},
     "output_type": "execute_result"
    }
   ],
   "source": [
    "movie_stats=movie_stats.sort_values(by='bayesian_avg_rating',ascending=False)\n",
    "movie_stats.head()"
   ]
  },
  {
   "cell_type": "code",
   "execution_count": 13,
   "id": "express-covering",
   "metadata": {},
   "outputs": [
    {
     "data": {
      "text/html": [
       "<div>\n",
       "<style scoped>\n",
       "    .dataframe tbody tr th:only-of-type {\n",
       "        vertical-align: middle;\n",
       "    }\n",
       "\n",
       "    .dataframe tbody tr th {\n",
       "        vertical-align: top;\n",
       "    }\n",
       "\n",
       "    .dataframe thead th {\n",
       "        text-align: right;\n",
       "    }\n",
       "</style>\n",
       "<table border=\"1\" class=\"dataframe\">\n",
       "  <thead>\n",
       "    <tr style=\"text-align: right;\">\n",
       "      <th></th>\n",
       "      <th>movie_id</th>\n",
       "      <th>count</th>\n",
       "      <th>mean</th>\n",
       "      <th>bayesian_avg_rating</th>\n",
       "      <th>title</th>\n",
       "      <th>genre</th>\n",
       "    </tr>\n",
       "  </thead>\n",
       "  <tbody>\n",
       "    <tr>\n",
       "      <th>0</th>\n",
       "      <td>318</td>\n",
       "      <td>2227</td>\n",
       "      <td>4.554558</td>\n",
       "      <td>4.412347</td>\n",
       "      <td>Shawshank Redemption, The (1994)</td>\n",
       "      <td>Drama</td>\n",
       "    </tr>\n",
       "    <tr>\n",
       "      <th>1</th>\n",
       "      <td>858</td>\n",
       "      <td>2223</td>\n",
       "      <td>4.524966</td>\n",
       "      <td>4.385731</td>\n",
       "      <td>Godfather, The (1972)</td>\n",
       "      <td>Action|Crime|Drama</td>\n",
       "    </tr>\n",
       "    <tr>\n",
       "      <th>2</th>\n",
       "      <td>527</td>\n",
       "      <td>2304</td>\n",
       "      <td>4.510417</td>\n",
       "      <td>4.377089</td>\n",
       "      <td>Schindler's List (1993)</td>\n",
       "      <td>Drama|War</td>\n",
       "    </tr>\n",
       "    <tr>\n",
       "      <th>3</th>\n",
       "      <td>1198</td>\n",
       "      <td>2514</td>\n",
       "      <td>4.477725</td>\n",
       "      <td>4.357624</td>\n",
       "      <td>Raiders of the Lost Ark (1981)</td>\n",
       "      <td>Action|Adventure</td>\n",
       "    </tr>\n",
       "    <tr>\n",
       "      <th>4</th>\n",
       "      <td>260</td>\n",
       "      <td>2991</td>\n",
       "      <td>4.453694</td>\n",
       "      <td>4.353151</td>\n",
       "      <td>Star Wars: Episode IV - A New Hope (1977)</td>\n",
       "      <td>Action|Adventure|Fantasy|Sci-Fi</td>\n",
       "    </tr>\n",
       "  </tbody>\n",
       "</table>\n",
       "</div>"
      ],
      "text/plain": [
       "   movie_id  count      mean  bayesian_avg_rating  \\\n",
       "0       318   2227  4.554558             4.412347   \n",
       "1       858   2223  4.524966             4.385731   \n",
       "2       527   2304  4.510417             4.377089   \n",
       "3      1198   2514  4.477725             4.357624   \n",
       "4       260   2991  4.453694             4.353151   \n",
       "\n",
       "                                       title                            genre  \n",
       "0           Shawshank Redemption, The (1994)                            Drama  \n",
       "1                      Godfather, The (1972)               Action|Crime|Drama  \n",
       "2                    Schindler's List (1993)                        Drama|War  \n",
       "3             Raiders of the Lost Ark (1981)                 Action|Adventure  \n",
       "4  Star Wars: Episode IV - A New Hope (1977)  Action|Adventure|Fantasy|Sci-Fi  "
      ]
     },
     "execution_count": 13,
     "metadata": {},
     "output_type": "execute_result"
    }
   ],
   "source": [
    "# Top 5 movies\n",
    "movie_stats=movie_stats.merge(movies,on='movie_id',how='left')\n",
    "movie_stats.head()"
   ]
  },
  {
   "cell_type": "markdown",
   "id": "authentic-consumer",
   "metadata": {},
   "source": [
    "According to the bayesian average, the top 5 movies are Shawshank Redemption,The Godfather,Schindler's list, Raiders of the Lost Ark and Star Wars; all of which are critically acclaimed movies "
   ]
  },
  {
   "cell_type": "code",
   "execution_count": 14,
   "id": "sporting-victorian",
   "metadata": {},
   "outputs": [
    {
     "data": {
      "text/html": [
       "<div>\n",
       "<style scoped>\n",
       "    .dataframe tbody tr th:only-of-type {\n",
       "        vertical-align: middle;\n",
       "    }\n",
       "\n",
       "    .dataframe tbody tr th {\n",
       "        vertical-align: top;\n",
       "    }\n",
       "\n",
       "    .dataframe thead th {\n",
       "        text-align: right;\n",
       "    }\n",
       "</style>\n",
       "<table border=\"1\" class=\"dataframe\">\n",
       "  <thead>\n",
       "    <tr style=\"text-align: right;\">\n",
       "      <th></th>\n",
       "      <th>movie_id</th>\n",
       "      <th>count</th>\n",
       "      <th>mean</th>\n",
       "      <th>bayesian_avg_rating</th>\n",
       "      <th>title</th>\n",
       "      <th>genre</th>\n",
       "    </tr>\n",
       "  </thead>\n",
       "  <tbody>\n",
       "    <tr>\n",
       "      <th>3701</th>\n",
       "      <td>2643</td>\n",
       "      <td>332</td>\n",
       "      <td>1.888554</td>\n",
       "      <td>2.494050</td>\n",
       "      <td>Superman IV: The Quest for Peace (1987)</td>\n",
       "      <td>Action|Adventure|Sci-Fi</td>\n",
       "    </tr>\n",
       "    <tr>\n",
       "      <th>3702</th>\n",
       "      <td>546</td>\n",
       "      <td>350</td>\n",
       "      <td>1.874286</td>\n",
       "      <td>2.468412</td>\n",
       "      <td>Super Mario Bros. (1993)</td>\n",
       "      <td>Action|Adventure|Children's|Sci-Fi</td>\n",
       "    </tr>\n",
       "    <tr>\n",
       "      <th>3703</th>\n",
       "      <td>1556</td>\n",
       "      <td>367</td>\n",
       "      <td>1.871935</td>\n",
       "      <td>2.451199</td>\n",
       "      <td>Speed 2: Cruise Control (1997)</td>\n",
       "      <td>Action|Romance|Thriller</td>\n",
       "    </tr>\n",
       "    <tr>\n",
       "      <th>3704</th>\n",
       "      <td>2701</td>\n",
       "      <td>902</td>\n",
       "      <td>2.158537</td>\n",
       "      <td>2.407345</td>\n",
       "      <td>Wild Wild West (1999)</td>\n",
       "      <td>Action|Sci-Fi|Western</td>\n",
       "    </tr>\n",
       "    <tr>\n",
       "      <th>3705</th>\n",
       "      <td>3593</td>\n",
       "      <td>342</td>\n",
       "      <td>1.611111</td>\n",
       "      <td>2.329085</td>\n",
       "      <td>Battlefield Earth (2000)</td>\n",
       "      <td>Action|Sci-Fi</td>\n",
       "    </tr>\n",
       "  </tbody>\n",
       "</table>\n",
       "</div>"
      ],
      "text/plain": [
       "      movie_id  count      mean  bayesian_avg_rating  \\\n",
       "3701      2643    332  1.888554             2.494050   \n",
       "3702       546    350  1.874286             2.468412   \n",
       "3703      1556    367  1.871935             2.451199   \n",
       "3704      2701    902  2.158537             2.407345   \n",
       "3705      3593    342  1.611111             2.329085   \n",
       "\n",
       "                                        title  \\\n",
       "3701  Superman IV: The Quest for Peace (1987)   \n",
       "3702                 Super Mario Bros. (1993)   \n",
       "3703           Speed 2: Cruise Control (1997)   \n",
       "3704                    Wild Wild West (1999)   \n",
       "3705                 Battlefield Earth (2000)   \n",
       "\n",
       "                                   genre  \n",
       "3701             Action|Adventure|Sci-Fi  \n",
       "3702  Action|Adventure|Children's|Sci-Fi  \n",
       "3703             Action|Romance|Thriller  \n",
       "3704               Action|Sci-Fi|Western  \n",
       "3705                       Action|Sci-Fi  "
      ]
     },
     "execution_count": 14,
     "metadata": {},
     "output_type": "execute_result"
    }
   ],
   "source": [
    "# Bottom 5 movies\n",
    "movie_stats.tail()"
   ]
  },
  {
   "cell_type": "markdown",
   "id": "radical-constitutional",
   "metadata": {},
   "source": [
    "### 4.Transforming the Data"
   ]
  },
  {
   "cell_type": "markdown",
   "id": "sized-humor",
   "metadata": {},
   "source": [
    "Here I will use collaborative filtering for making recommendations. Collaborative filtering assumes homophily- that is similar users like similar things. Therefore the recommendation system can suggest items to a user based on  data from other similar users. For this a user-item matrix needs to be created"
   ]
  },
  {
   "cell_type": "markdown",
   "id": "white-logic",
   "metadata": {},
   "source": [
    "### 4.1 Generating the user-item matrix"
   ]
  },
  {
   "cell_type": "code",
   "execution_count": 15,
   "id": "composite-hughes",
   "metadata": {},
   "outputs": [],
   "source": [
    "def create_X(df):\n",
    "    '''Creates the user-item matrix from ratings dataframe\n",
    "    \n",
    "    Args: Pandas Dataframe\n",
    "    \n",
    "    Outputs: Sparse user-item matrix\n",
    "    user mapper: dictionary to map user ids to user indices\n",
    "    user_inv_mapper : dictionary to map user indices to user ids\n",
    "    \n",
    "    movie_mapper: dictionary to map movie_id to movie indices\n",
    "    movie_inverse_mapper: dictionary to map movie indices to movie ids \n",
    "    '''\n",
    "    N=df['user_id'].nunique()\n",
    "    M=df['movie_id'].nunique()\n",
    "    \n",
    "    user_mapper=dict(zip(np.unique(df['user_id']),list(range(N))))\n",
    "    movie_mapper=dict(zip(np.unique(df['movie_id']),list(range(M))))\n",
    "    \n",
    "    user_inv_mapper=dict(zip(list(range(N)),np.unique(df['user_id'])))\n",
    "    movie_inv_mapper=dict(zip(list(range(M)),np.unique(df['movie_id'])))\n",
    "    \n",
    "    user_index=[user_mapper[i] for i in df['user_id']]\n",
    "    movie_index=[movie_mapper[i] for i in df['movie_id']]\n",
    "    \n",
    "    X=csr_matrix((df['rating'],(movie_index,user_index)),shape=(M,N))\n",
    "    \n",
    "    return X,user_mapper,movie_mapper,user_inv_mapper,movie_inv_mapper   "
   ]
  },
  {
   "cell_type": "code",
   "execution_count": 16,
   "id": "fitting-velvet",
   "metadata": {},
   "outputs": [],
   "source": [
    "X,user_map,movie_map,user_inv_map,movie_inv_map=create_X(ratings)"
   ]
  },
  {
   "cell_type": "code",
   "execution_count": 117,
   "id": "varied-matrix",
   "metadata": {},
   "outputs": [
    {
     "name": "stdout",
     "output_type": "stream",
     "text": [
      "sparsity of the X matrix is 4.47 %\n"
     ]
    }
   ],
   "source": [
    "# Calculating sparsity of the marix\n",
    "sparsity=100*X.count_nonzero()/(X.shape[0]*X.shape[1])\n",
    "print('sparsity of the X matrix is {} %'.format(np.round(sparsity,2)))"
   ]
  },
  {
   "cell_type": "code",
   "execution_count": 121,
   "id": "returning-valentine",
   "metadata": {},
   "outputs": [],
   "source": [
    "# Writing out user_item matrix to a file\n",
    "save_npz('user-item-matrix.npz',X)"
   ]
  },
  {
   "cell_type": "markdown",
   "id": "preceding-skirt",
   "metadata": {},
   "source": [
    "### 5. Finding similar movies using K nearest neighbours"
   ]
  },
  {
   "cell_type": "markdown",
   "id": "moving-conviction",
   "metadata": {},
   "source": [
    "KNN tries to find items similar to the given item using metrics like \n",
    "1. Cosine similarity\n",
    "2. Euclidean distance\n",
    "3. Manhattan distance\n",
    "4. Pearson correlation"
   ]
  },
  {
   "cell_type": "code",
   "execution_count": null,
   "id": "thousand-portfolio",
   "metadata": {},
   "outputs": [],
   "source": [
    "from sklearn.neighbors import NearestNeighbors\n",
    "\n",
    "def find_neighbours(movie_id,X,k=5,metric='cosine',show_distance=False):\n",
    "    '''Finds K nearest neighbors for a given movie id\n",
    "    \n",
    "    Args\n",
    "    movie_id : id of the movie of interest\n",
    "    X : User-item matrix\n",
    "    k : number of similar movies to find\n",
    "    metric : metric to measure similarity\n",
    "    \n",
    "    Output\n",
    "    Returns a list of k similar movie ids\n",
    "    '''\n",
    "    neighbour_ids=[]\n",
    "    movie_ind=movie_mapper[movie_id]\n",
    "    movie_vec=X[movie_ind]\n",
    "    \n",
    "    KNN=NearestNeighbors(n_neighbors=k,algorithm='brute',metric=metric)\n",
    "    KNN.fit(X)\n",
    "    \n",
    "    if isinstance(movie_vec,(np.ndarray)):\n",
    "        movie_vec=movie_vec.reshape(-1,1)\n",
    "    "
   ]
  },
  {
   "cell_type": "code",
   "execution_count": null,
   "id": "emotional-serum",
   "metadata": {},
   "outputs": [],
   "source": []
  },
  {
   "cell_type": "code",
   "execution_count": null,
   "id": "featured-tongue",
   "metadata": {},
   "outputs": [],
   "source": []
  },
  {
   "cell_type": "code",
   "execution_count": null,
   "id": "accomplished-collective",
   "metadata": {},
   "outputs": [],
   "source": []
  }
 ],
 "metadata": {
  "hide_input": false,
  "kernelspec": {
   "display_name": "Python 3",
   "language": "python",
   "name": "python3"
  },
  "language_info": {
   "codemirror_mode": {
    "name": "ipython",
    "version": 3
   },
   "file_extension": ".py",
   "mimetype": "text/x-python",
   "name": "python",
   "nbconvert_exporter": "python",
   "pygments_lexer": "ipython3",
   "version": "3.8.8"
  }
 },
 "nbformat": 4,
 "nbformat_minor": 5
}
